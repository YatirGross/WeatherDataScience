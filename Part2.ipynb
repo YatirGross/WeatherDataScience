{
  "nbformat": 4,
  "nbformat_minor": 0,
  "metadata": {
    "colab": {
      "provenance": [],
      "gpuType": "T4"
    },
    "kernelspec": {
      "name": "python3",
      "display_name": "Python 3"
    },
    "language_info": {
      "name": "python"
    },
    "accelerator": "GPU"
  },
  "cells": [
    {
      "cell_type": "markdown",
      "source": [
        "## **Imports**"
      ],
      "metadata": {
        "id": "-p4F31i-wB_2"
      }
    },
    {
      "cell_type": "code",
      "source": [
        "import pandas as pd\n",
        "import numpy as np\n",
        "import matplotlib.pyplot as plt\n",
        "import xgboost as xgb\n",
        "from sklearn.model_selection import train_test_split\n",
        "from sklearn.metrics import mean_squared_error\n",
        "from sklearn.preprocessing import StandardScaler\n",
        "from sklearn.preprocessing import LabelEncoder\n",
        "from sklearn.metrics import mean_squared_error, mean_absolute_error, r2_score"
      ],
      "metadata": {
        "id": "QZ0qaGn-wLSt"
      },
      "execution_count": null,
      "outputs": []
    },
    {
      "cell_type": "markdown",
      "source": [
        "##**Loading Data**\n",
        "\n",
        "\n"
      ],
      "metadata": {
        "id": "69Z1lV2-wQKA"
      }
    },
    {
      "cell_type": "code",
      "source": [
        "file_path = 'all_weather_data.csv'\n",
        "basic_df = pd.read_csv(file_path)\n",
        "basic_df = basic_df.sample(frac=0.1, random_state=42)\n",
        "basic_df.describe()"
      ],
      "metadata": {
        "colab": {
          "base_uri": "https://localhost:8080/",
          "height": 300
        },
        "id": "OaoCw-tXwTxP",
        "outputId": "56a6328e-c3b5-45a6-e91c-fd1e0d3023be"
      },
      "execution_count": null,
      "outputs": [
        {
          "output_type": "execute_result",
          "data": {
            "text/plain": [
              "         min_temp °c    max_temp °c        rain mm     humidity %  \\\n",
              "count  283619.000000  283619.000000  283619.000000  283619.000000   \n",
              "mean        7.095121      13.155603       2.504945      82.354398   \n",
              "std         4.862391       5.860088       4.546878       8.852784   \n",
              "min       -24.000000     -16.000000       0.000000      14.000000   \n",
              "25%         4.000000       9.000000       0.000000      77.000000   \n",
              "50%         7.000000      13.000000       0.400000      83.000000   \n",
              "75%        11.000000      17.000000       3.100000      89.000000   \n",
              "max        30.000000      43.000000     138.300000     100.000000   \n",
              "\n",
              "       cloud_cover %  wind_speed km/h  wind_direction_numerical  \n",
              "count  283619.000000    283619.000000             283619.000000  \n",
              "mean       56.109979        16.074798                198.894053  \n",
              "std        25.530083         7.393027                 73.476368  \n",
              "min         0.000000         1.000000                  0.000000  \n",
              "25%        37.000000        11.000000                157.500000  \n",
              "50%        58.000000        15.000000                202.500000  \n",
              "75%        76.000000        20.000000                247.500000  \n",
              "max       100.000000        62.000000                337.500000  "
            ],
            "text/html": [
              "\n",
              "  <div id=\"df-e45120c3-779f-4b06-88cc-f4fa88a7f9a8\" class=\"colab-df-container\">\n",
              "    <div>\n",
              "<style scoped>\n",
              "    .dataframe tbody tr th:only-of-type {\n",
              "        vertical-align: middle;\n",
              "    }\n",
              "\n",
              "    .dataframe tbody tr th {\n",
              "        vertical-align: top;\n",
              "    }\n",
              "\n",
              "    .dataframe thead th {\n",
              "        text-align: right;\n",
              "    }\n",
              "</style>\n",
              "<table border=\"1\" class=\"dataframe\">\n",
              "  <thead>\n",
              "    <tr style=\"text-align: right;\">\n",
              "      <th></th>\n",
              "      <th>min_temp °c</th>\n",
              "      <th>max_temp °c</th>\n",
              "      <th>rain mm</th>\n",
              "      <th>humidity %</th>\n",
              "      <th>cloud_cover %</th>\n",
              "      <th>wind_speed km/h</th>\n",
              "      <th>wind_direction_numerical</th>\n",
              "    </tr>\n",
              "  </thead>\n",
              "  <tbody>\n",
              "    <tr>\n",
              "      <th>count</th>\n",
              "      <td>283619.000000</td>\n",
              "      <td>283619.000000</td>\n",
              "      <td>283619.000000</td>\n",
              "      <td>283619.000000</td>\n",
              "      <td>283619.000000</td>\n",
              "      <td>283619.000000</td>\n",
              "      <td>283619.000000</td>\n",
              "    </tr>\n",
              "    <tr>\n",
              "      <th>mean</th>\n",
              "      <td>7.095121</td>\n",
              "      <td>13.155603</td>\n",
              "      <td>2.504945</td>\n",
              "      <td>82.354398</td>\n",
              "      <td>56.109979</td>\n",
              "      <td>16.074798</td>\n",
              "      <td>198.894053</td>\n",
              "    </tr>\n",
              "    <tr>\n",
              "      <th>std</th>\n",
              "      <td>4.862391</td>\n",
              "      <td>5.860088</td>\n",
              "      <td>4.546878</td>\n",
              "      <td>8.852784</td>\n",
              "      <td>25.530083</td>\n",
              "      <td>7.393027</td>\n",
              "      <td>73.476368</td>\n",
              "    </tr>\n",
              "    <tr>\n",
              "      <th>min</th>\n",
              "      <td>-24.000000</td>\n",
              "      <td>-16.000000</td>\n",
              "      <td>0.000000</td>\n",
              "      <td>14.000000</td>\n",
              "      <td>0.000000</td>\n",
              "      <td>1.000000</td>\n",
              "      <td>0.000000</td>\n",
              "    </tr>\n",
              "    <tr>\n",
              "      <th>25%</th>\n",
              "      <td>4.000000</td>\n",
              "      <td>9.000000</td>\n",
              "      <td>0.000000</td>\n",
              "      <td>77.000000</td>\n",
              "      <td>37.000000</td>\n",
              "      <td>11.000000</td>\n",
              "      <td>157.500000</td>\n",
              "    </tr>\n",
              "    <tr>\n",
              "      <th>50%</th>\n",
              "      <td>7.000000</td>\n",
              "      <td>13.000000</td>\n",
              "      <td>0.400000</td>\n",
              "      <td>83.000000</td>\n",
              "      <td>58.000000</td>\n",
              "      <td>15.000000</td>\n",
              "      <td>202.500000</td>\n",
              "    </tr>\n",
              "    <tr>\n",
              "      <th>75%</th>\n",
              "      <td>11.000000</td>\n",
              "      <td>17.000000</td>\n",
              "      <td>3.100000</td>\n",
              "      <td>89.000000</td>\n",
              "      <td>76.000000</td>\n",
              "      <td>20.000000</td>\n",
              "      <td>247.500000</td>\n",
              "    </tr>\n",
              "    <tr>\n",
              "      <th>max</th>\n",
              "      <td>30.000000</td>\n",
              "      <td>43.000000</td>\n",
              "      <td>138.300000</td>\n",
              "      <td>100.000000</td>\n",
              "      <td>100.000000</td>\n",
              "      <td>62.000000</td>\n",
              "      <td>337.500000</td>\n",
              "    </tr>\n",
              "  </tbody>\n",
              "</table>\n",
              "</div>\n",
              "    <div class=\"colab-df-buttons\">\n",
              "\n",
              "  <div class=\"colab-df-container\">\n",
              "    <button class=\"colab-df-convert\" onclick=\"convertToInteractive('df-e45120c3-779f-4b06-88cc-f4fa88a7f9a8')\"\n",
              "            title=\"Convert this dataframe to an interactive table.\"\n",
              "            style=\"display:none;\">\n",
              "\n",
              "  <svg xmlns=\"http://www.w3.org/2000/svg\" height=\"24px\" viewBox=\"0 -960 960 960\">\n",
              "    <path d=\"M120-120v-720h720v720H120Zm60-500h600v-160H180v160Zm220 220h160v-160H400v160Zm0 220h160v-160H400v160ZM180-400h160v-160H180v160Zm440 0h160v-160H620v160ZM180-180h160v-160H180v160Zm440 0h160v-160H620v160Z\"/>\n",
              "  </svg>\n",
              "    </button>\n",
              "\n",
              "  <style>\n",
              "    .colab-df-container {\n",
              "      display:flex;\n",
              "      gap: 12px;\n",
              "    }\n",
              "\n",
              "    .colab-df-convert {\n",
              "      background-color: #E8F0FE;\n",
              "      border: none;\n",
              "      border-radius: 50%;\n",
              "      cursor: pointer;\n",
              "      display: none;\n",
              "      fill: #1967D2;\n",
              "      height: 32px;\n",
              "      padding: 0 0 0 0;\n",
              "      width: 32px;\n",
              "    }\n",
              "\n",
              "    .colab-df-convert:hover {\n",
              "      background-color: #E2EBFA;\n",
              "      box-shadow: 0px 1px 2px rgba(60, 64, 67, 0.3), 0px 1px 3px 1px rgba(60, 64, 67, 0.15);\n",
              "      fill: #174EA6;\n",
              "    }\n",
              "\n",
              "    .colab-df-buttons div {\n",
              "      margin-bottom: 4px;\n",
              "    }\n",
              "\n",
              "    [theme=dark] .colab-df-convert {\n",
              "      background-color: #3B4455;\n",
              "      fill: #D2E3FC;\n",
              "    }\n",
              "\n",
              "    [theme=dark] .colab-df-convert:hover {\n",
              "      background-color: #434B5C;\n",
              "      box-shadow: 0px 1px 3px 1px rgba(0, 0, 0, 0.15);\n",
              "      filter: drop-shadow(0px 1px 2px rgba(0, 0, 0, 0.3));\n",
              "      fill: #FFFFFF;\n",
              "    }\n",
              "  </style>\n",
              "\n",
              "    <script>\n",
              "      const buttonEl =\n",
              "        document.querySelector('#df-e45120c3-779f-4b06-88cc-f4fa88a7f9a8 button.colab-df-convert');\n",
              "      buttonEl.style.display =\n",
              "        google.colab.kernel.accessAllowed ? 'block' : 'none';\n",
              "\n",
              "      async function convertToInteractive(key) {\n",
              "        const element = document.querySelector('#df-e45120c3-779f-4b06-88cc-f4fa88a7f9a8');\n",
              "        const dataTable =\n",
              "          await google.colab.kernel.invokeFunction('convertToInteractive',\n",
              "                                                    [key], {});\n",
              "        if (!dataTable) return;\n",
              "\n",
              "        const docLinkHtml = 'Like what you see? Visit the ' +\n",
              "          '<a target=\"_blank\" href=https://colab.research.google.com/notebooks/data_table.ipynb>data table notebook</a>'\n",
              "          + ' to learn more about interactive tables.';\n",
              "        element.innerHTML = '';\n",
              "        dataTable['output_type'] = 'display_data';\n",
              "        await google.colab.output.renderOutput(dataTable, element);\n",
              "        const docLink = document.createElement('div');\n",
              "        docLink.innerHTML = docLinkHtml;\n",
              "        element.appendChild(docLink);\n",
              "      }\n",
              "    </script>\n",
              "  </div>\n",
              "\n",
              "\n",
              "<div id=\"df-1a79cb26-a19c-4d54-a2f9-16af1a3244ec\">\n",
              "  <button class=\"colab-df-quickchart\" onclick=\"quickchart('df-1a79cb26-a19c-4d54-a2f9-16af1a3244ec')\"\n",
              "            title=\"Suggest charts\"\n",
              "            style=\"display:none;\">\n",
              "\n",
              "<svg xmlns=\"http://www.w3.org/2000/svg\" height=\"24px\"viewBox=\"0 0 24 24\"\n",
              "     width=\"24px\">\n",
              "    <g>\n",
              "        <path d=\"M19 3H5c-1.1 0-2 .9-2 2v14c0 1.1.9 2 2 2h14c1.1 0 2-.9 2-2V5c0-1.1-.9-2-2-2zM9 17H7v-7h2v7zm4 0h-2V7h2v10zm4 0h-2v-4h2v4z\"/>\n",
              "    </g>\n",
              "</svg>\n",
              "  </button>\n",
              "\n",
              "<style>\n",
              "  .colab-df-quickchart {\n",
              "      --bg-color: #E8F0FE;\n",
              "      --fill-color: #1967D2;\n",
              "      --hover-bg-color: #E2EBFA;\n",
              "      --hover-fill-color: #174EA6;\n",
              "      --disabled-fill-color: #AAA;\n",
              "      --disabled-bg-color: #DDD;\n",
              "  }\n",
              "\n",
              "  [theme=dark] .colab-df-quickchart {\n",
              "      --bg-color: #3B4455;\n",
              "      --fill-color: #D2E3FC;\n",
              "      --hover-bg-color: #434B5C;\n",
              "      --hover-fill-color: #FFFFFF;\n",
              "      --disabled-bg-color: #3B4455;\n",
              "      --disabled-fill-color: #666;\n",
              "  }\n",
              "\n",
              "  .colab-df-quickchart {\n",
              "    background-color: var(--bg-color);\n",
              "    border: none;\n",
              "    border-radius: 50%;\n",
              "    cursor: pointer;\n",
              "    display: none;\n",
              "    fill: var(--fill-color);\n",
              "    height: 32px;\n",
              "    padding: 0;\n",
              "    width: 32px;\n",
              "  }\n",
              "\n",
              "  .colab-df-quickchart:hover {\n",
              "    background-color: var(--hover-bg-color);\n",
              "    box-shadow: 0 1px 2px rgba(60, 64, 67, 0.3), 0 1px 3px 1px rgba(60, 64, 67, 0.15);\n",
              "    fill: var(--button-hover-fill-color);\n",
              "  }\n",
              "\n",
              "  .colab-df-quickchart-complete:disabled,\n",
              "  .colab-df-quickchart-complete:disabled:hover {\n",
              "    background-color: var(--disabled-bg-color);\n",
              "    fill: var(--disabled-fill-color);\n",
              "    box-shadow: none;\n",
              "  }\n",
              "\n",
              "  .colab-df-spinner {\n",
              "    border: 2px solid var(--fill-color);\n",
              "    border-color: transparent;\n",
              "    border-bottom-color: var(--fill-color);\n",
              "    animation:\n",
              "      spin 1s steps(1) infinite;\n",
              "  }\n",
              "\n",
              "  @keyframes spin {\n",
              "    0% {\n",
              "      border-color: transparent;\n",
              "      border-bottom-color: var(--fill-color);\n",
              "      border-left-color: var(--fill-color);\n",
              "    }\n",
              "    20% {\n",
              "      border-color: transparent;\n",
              "      border-left-color: var(--fill-color);\n",
              "      border-top-color: var(--fill-color);\n",
              "    }\n",
              "    30% {\n",
              "      border-color: transparent;\n",
              "      border-left-color: var(--fill-color);\n",
              "      border-top-color: var(--fill-color);\n",
              "      border-right-color: var(--fill-color);\n",
              "    }\n",
              "    40% {\n",
              "      border-color: transparent;\n",
              "      border-right-color: var(--fill-color);\n",
              "      border-top-color: var(--fill-color);\n",
              "    }\n",
              "    60% {\n",
              "      border-color: transparent;\n",
              "      border-right-color: var(--fill-color);\n",
              "    }\n",
              "    80% {\n",
              "      border-color: transparent;\n",
              "      border-right-color: var(--fill-color);\n",
              "      border-bottom-color: var(--fill-color);\n",
              "    }\n",
              "    90% {\n",
              "      border-color: transparent;\n",
              "      border-bottom-color: var(--fill-color);\n",
              "    }\n",
              "  }\n",
              "</style>\n",
              "\n",
              "  <script>\n",
              "    async function quickchart(key) {\n",
              "      const quickchartButtonEl =\n",
              "        document.querySelector('#' + key + ' button');\n",
              "      quickchartButtonEl.disabled = true;  // To prevent multiple clicks.\n",
              "      quickchartButtonEl.classList.add('colab-df-spinner');\n",
              "      try {\n",
              "        const charts = await google.colab.kernel.invokeFunction(\n",
              "            'suggestCharts', [key], {});\n",
              "      } catch (error) {\n",
              "        console.error('Error during call to suggestCharts:', error);\n",
              "      }\n",
              "      quickchartButtonEl.classList.remove('colab-df-spinner');\n",
              "      quickchartButtonEl.classList.add('colab-df-quickchart-complete');\n",
              "    }\n",
              "    (() => {\n",
              "      let quickchartButtonEl =\n",
              "        document.querySelector('#df-1a79cb26-a19c-4d54-a2f9-16af1a3244ec button');\n",
              "      quickchartButtonEl.style.display =\n",
              "        google.colab.kernel.accessAllowed ? 'block' : 'none';\n",
              "    })();\n",
              "  </script>\n",
              "</div>\n",
              "\n",
              "    </div>\n",
              "  </div>\n"
            ],
            "application/vnd.google.colaboratory.intrinsic+json": {
              "type": "dataframe",
              "summary": "{\n  \"name\": \"basic_df\",\n  \"rows\": 8,\n  \"fields\": [\n    {\n      \"column\": \"min_temp \\u00b0c\",\n      \"properties\": {\n        \"dtype\": \"number\",\n        \"std\": 100272.44200173474,\n        \"min\": -24.0,\n        \"max\": 283619.0,\n        \"num_unique_values\": 8,\n        \"samples\": [\n          7.095120566675717,\n          7.0,\n          283619.0\n        ],\n        \"semantic_type\": \"\",\n        \"description\": \"\"\n      }\n    },\n    {\n      \"column\": \"max_temp \\u00b0c\",\n      \"properties\": {\n        \"dtype\": \"number\",\n        \"std\": 100270.1664415465,\n        \"min\": -16.0,\n        \"max\": 283619.0,\n        \"num_unique_values\": 8,\n        \"samples\": [\n          13.155603115447132,\n          13.0,\n          283619.0\n        ],\n        \"semantic_type\": \"\",\n        \"description\": \"\"\n      }\n    },\n    {\n      \"column\": \"rain mm\",\n      \"properties\": {\n        \"dtype\": \"number\",\n        \"std\": 100266.95233129126,\n        \"min\": 0.0,\n        \"max\": 283619.0,\n        \"num_unique_values\": 7,\n        \"samples\": [\n          283619.0,\n          2.5049446616764044,\n          3.1\n        ],\n        \"semantic_type\": \"\",\n        \"description\": \"\"\n      }\n    },\n    {\n      \"column\": \"humidity %\",\n      \"properties\": {\n        \"dtype\": \"number\",\n        \"std\": 100251.52409015849,\n        \"min\": 8.85278385084395,\n        \"max\": 283619.0,\n        \"num_unique_values\": 8,\n        \"samples\": [\n          82.3543979775685,\n          83.0,\n          283619.0\n        ],\n        \"semantic_type\": \"\",\n        \"description\": \"\"\n      }\n    },\n    {\n      \"column\": \"cloud_cover %\",\n      \"properties\": {\n        \"dtype\": \"number\",\n        \"std\": 100256.65273632086,\n        \"min\": 0.0,\n        \"max\": 283619.0,\n        \"num_unique_values\": 8,\n        \"samples\": [\n          56.10997852753165,\n          58.0,\n          283619.0\n        ],\n        \"semantic_type\": \"\",\n        \"description\": \"\"\n      }\n    },\n    {\n      \"column\": \"wind_speed km/h\",\n      \"properties\": {\n        \"dtype\": \"number\",\n        \"std\": 100267.77015889774,\n        \"min\": 1.0,\n        \"max\": 283619.0,\n        \"num_unique_values\": 8,\n        \"samples\": [\n          16.074797527669162,\n          15.0,\n          283619.0\n        ],\n        \"semantic_type\": \"\",\n        \"description\": \"\"\n      }\n    },\n    {\n      \"column\": \"wind_direction_numerical\",\n      \"properties\": {\n        \"dtype\": \"number\",\n        \"std\": 100213.02549657549,\n        \"min\": 0.0,\n        \"max\": 283619.0,\n        \"num_unique_values\": 8,\n        \"samples\": [\n          198.89405328980075,\n          202.5,\n          283619.0\n        ],\n        \"semantic_type\": \"\",\n        \"description\": \"\"\n      }\n    }\n  ]\n}"
            }
          },
          "metadata": {},
          "execution_count": 146
        }
      ]
    },
    {
      "cell_type": "markdown",
      "source": [
        "#Basic Model Pipeline"
      ],
      "metadata": {
        "id": "sF-9pW8j5Sn2"
      }
    },
    {
      "cell_type": "code",
      "source": [
        "# Check for missing values in the dataset\n",
        "print(\"Missing values in each column:\")\n",
        "print(basic_df.isna().sum())\n",
        "basic_df = basic_df.dropna()  # Drop rows with missing values"
      ],
      "metadata": {
        "colab": {
          "base_uri": "https://localhost:8080/"
        },
        "id": "Ti-PTipq7AjP",
        "outputId": "db255607-88a1-422a-fe71-66addf7823d5"
      },
      "execution_count": null,
      "outputs": [
        {
          "output_type": "stream",
          "name": "stdout",
          "text": [
            "Missing values in each column:\n",
            "location                    0\n",
            "date                        0\n",
            "min_temp °c                 0\n",
            "max_temp °c                 0\n",
            "rain mm                     0\n",
            "humidity %                  0\n",
            "cloud_cover %               0\n",
            "wind_speed km/h             0\n",
            "wind_direction              0\n",
            "wind_direction_numerical    0\n",
            "dtype: int64\n"
          ]
        }
      ]
    },
    {
      "cell_type": "code",
      "source": [
        "from sklearn.preprocessing import LabelEncoder\n",
        "\n",
        "# Initialize LabelEncoder\n",
        "label_encoder = LabelEncoder()\n",
        "\n",
        "# Apply Label Encoding to the 'City' column\n",
        "basic_df['location_encoded'] = label_encoder.fit_transform(basic_df['location'])\n",
        "\n",
        "# Convert to datetime\n",
        "basic_df['date'] = pd.to_datetime(basic_df['date'])\n",
        "\n",
        "reference_date = pd.to_datetime('2009-01-01')\n",
        "\n",
        "# Calculate the difference in days\n",
        "basic_df['date_in_days'] = (basic_df['date'] - reference_date).dt.days\n",
        "\n",
        "\n",
        "import xgboost as xgb\n",
        "from sklearn.model_selection import train_test_split\n",
        "from sklearn.metrics import mean_squared_error\n",
        "import numpy as np\n",
        "\n",
        "# Features (X) and Target (y)\n",
        "basic_X = basic_df.drop(columns=['rain mm', 'location', 'date', 'wind_direction'])\n",
        "basic_y = basic_df['rain mm']\n",
        "\n",
        "# Split data\n",
        "basic_X_train, basic_X_test, basic_y_train, basic_y_test = train_test_split(basic_X, basic_y, test_size=0.2, random_state=42)\n",
        "\n",
        "# Create the XGBRegressor model with 'gblinear' booster for linear regression\n",
        "model = xgb.XGBRegressor(objective='reg:squarederror', booster='gblinear', eval_metric='rmse')\n",
        "\n",
        "# Train the model\n",
        "model.fit(basic_X_train, basic_y_train)\n",
        "\n",
        "# Predict on the test set\n",
        "basic_y_pred = model.predict(basic_X_test)"
      ],
      "metadata": {
        "id": "d5-VeCnNBGsc"
      },
      "execution_count": null,
      "outputs": []
    },
    {
      "cell_type": "markdown",
      "source": [
        "## Error analysis"
      ],
      "metadata": {
        "id": "ZdEJJRhRCWrr"
      }
    },
    {
      "cell_type": "code",
      "source": [
        "# Calculate MSE, RMSE, MAE, and R-squared\n",
        "basic_mse = mean_squared_error(basic_y_test, basic_y_pred)\n",
        "basic_rmse = np.sqrt(basic_mse)\n",
        "basic_mae = mean_absolute_error(basic_y_test, basic_y_pred)\n",
        "basic_r2 = r2_score(basic_y_test, basic_y_pred)\n",
        "\n",
        "print(f\"Basic Mean Squared Error: {basic_mse:.4f}\")\n",
        "print(f\"Basic Root Mean Squared Error: {basic_rmse:.4f}\")\n",
        "print(f\"Basic Mean Absolute Error: {basic_mae:.4f}\")\n",
        "print(f\"Basic R-squared Score: {basic_r2:.4f}\")\n"
      ],
      "metadata": {
        "colab": {
          "base_uri": "https://localhost:8080/"
        },
        "id": "wghZfPLMCcj6",
        "outputId": "413d093f-b8cb-4a20-f05c-e49218fb11b6"
      },
      "execution_count": null,
      "outputs": [
        {
          "output_type": "stream",
          "name": "stdout",
          "text": [
            "Basic Mean Squared Error: 16.4605\n",
            "Basic Root Mean Squared Error: 4.0572\n",
            "Basic Mean Absolute Error: 2.5345\n",
            "Basic R-squared Score: 0.2238\n"
          ]
        }
      ]
    },
    {
      "cell_type": "markdown",
      "source": [
        "#1. Error Analysis Conclusions & work plan"
      ],
      "metadata": {
        "id": "qssjTjTAx2v5"
      }
    },
    {
      "cell_type": "markdown",
      "source": [
        "* **Underestimating High Values:** The model is underestimating higher values, likely due to biases from underrepresentation of high values in the training data or model simplicity that cannot capture large magnitude patterns effectively. Certain features might be negatively impacting predictions, possibly due to improper scaling, irrelevant features, or complex interactions not being properly captured by the model.\n",
        "* **Issues with Location Encoding:** Location is crucial for rain prediction due to factors like topography, proximity to water bodies, and climate zones. These differences affect rainfall patterns, which the model must capture. Using label encoding for location can lead to issues, as it treats location as a simple categorical variable, ignoring important geographic and meteorological differences. This can result in the model failing to capture location-specific weather patterns, leading to inaccurate predictions.\n",
        "* **Seasonal Trends in Date Features:** Dates are important for rain prediction because weather patterns follow seasonal and cyclical trends. Using days from epoch in our model treats dates as a continuous number, missing these patterns. Rainfall varies by month, day of the week, and season, and this approach overlooks those cycles.\n",
        "* **Avoiding Negative Predictions:** Negative predictions in rainfall (mm) are a clear error, as rainfall can never be negative. These factors allow the model to generate unrealistic outputs.\n",
        "* **Handling Multicollinearity:** If features are highly correlated with each other (multicollinearity) or include irrelevant variables, the regular linear regression model may struggle to assign proper weights. In cases of multicollinearity, the model can assign large or unstable weights to correlated features, making it difficult to interpret which feature truly impacts predictions. Additionally, irrelevant features that don't provide meaningful information may still receive non-zero weights, adding unnecessary noise. Both issues lead to increased model complexity, reducing its ability to generalize and causing errors due to high bias and sensitivity to slight changes in the data."
      ],
      "metadata": {
        "id": "O2XXOvG0ycR3"
      }
    },
    {
      "cell_type": "markdown",
      "source": [
        "##Conclusions:"
      ],
      "metadata": {
        "id": "MHu8rfE3yiJu"
      }
    },
    {
      "cell_type": "markdown",
      "source": [
        "To address these challenges, the following steps are planned to mitigate errors and enhance model performance:\n",
        "* **Underestimating High Values:** Ensure all features are properly scaled to improve the performance.\n",
        "* **Issues with Location Encoding:** We can represent the 'location' column in a way that retains the important geographic differences that affect rainfall. We intend to use one-hot encoding, which creates a separate binary feature for each location. While this increases the number of features, it ensures that the model can consider the unique impact of each location without treating it as just another categorical variable. This way, we can preserve the critical role of location in predicting rainfall.\n",
        "* **Seasonal Trends in Date Features:** To capture seasonal trends in dates, we can extract features that reflect the natural cycles in weather patterns. We intend to do this by creating features for the months (1-12) and seasons (e.g., winter, spring) to represent yearly cycles.\n",
        "* **Avoiding Negative Predictions:** To prevent negative rainfall predictions, the model's outputs can be post-processed using the clip function, which ensures all predicted values are constrained to a minimum of zero, maintaining the physical realism of the predictions.\n",
        "* **Handling Multicollinearity:**\n",
        "  * Use a correlation matrix or statistical tests to identify and remove redundant features.\n",
        "  * Cross-validation can help identify whether multicollinearity or redundant features are causing instability, as inconsistent performance across folds might indicate issues with the feature set or regularization."
      ],
      "metadata": {
        "id": "EW_n2a7gyl8V"
      }
    },
    {
      "cell_type": "markdown",
      "source": [
        "#2.  Improving Model Performance"
      ],
      "metadata": {
        "id": "kCIYHTRiyqQT"
      }
    },
    {
      "cell_type": "code",
      "source": [
        "file_path = 'all_weather_data.csv'\n",
        "df = pd.read_csv(file_path)\n",
        "df = df.sample(frac=0.1, random_state=42)\n",
        "df.describe()"
      ],
      "metadata": {
        "id": "09lSKidoCoRq",
        "colab": {
          "base_uri": "https://localhost:8080/",
          "height": 300
        },
        "outputId": "1a09cf6f-cb34-4cd2-f8b9-c257433729dc"
      },
      "execution_count": null,
      "outputs": [
        {
          "output_type": "execute_result",
          "data": {
            "text/plain": [
              "         min_temp °c    max_temp °c        rain mm     humidity %  \\\n",
              "count  283619.000000  283619.000000  283619.000000  283619.000000   \n",
              "mean        7.095121      13.155603       2.504945      82.354398   \n",
              "std         4.862391       5.860088       4.546878       8.852784   \n",
              "min       -24.000000     -16.000000       0.000000      14.000000   \n",
              "25%         4.000000       9.000000       0.000000      77.000000   \n",
              "50%         7.000000      13.000000       0.400000      83.000000   \n",
              "75%        11.000000      17.000000       3.100000      89.000000   \n",
              "max        30.000000      43.000000     138.300000     100.000000   \n",
              "\n",
              "       cloud_cover %  wind_speed km/h  wind_direction_numerical  \n",
              "count  283619.000000    283619.000000             283619.000000  \n",
              "mean       56.109979        16.074798                198.894053  \n",
              "std        25.530083         7.393027                 73.476368  \n",
              "min         0.000000         1.000000                  0.000000  \n",
              "25%        37.000000        11.000000                157.500000  \n",
              "50%        58.000000        15.000000                202.500000  \n",
              "75%        76.000000        20.000000                247.500000  \n",
              "max       100.000000        62.000000                337.500000  "
            ],
            "text/html": [
              "\n",
              "  <div id=\"df-3d92305a-52ab-46c2-9491-91fcd77de175\" class=\"colab-df-container\">\n",
              "    <div>\n",
              "<style scoped>\n",
              "    .dataframe tbody tr th:only-of-type {\n",
              "        vertical-align: middle;\n",
              "    }\n",
              "\n",
              "    .dataframe tbody tr th {\n",
              "        vertical-align: top;\n",
              "    }\n",
              "\n",
              "    .dataframe thead th {\n",
              "        text-align: right;\n",
              "    }\n",
              "</style>\n",
              "<table border=\"1\" class=\"dataframe\">\n",
              "  <thead>\n",
              "    <tr style=\"text-align: right;\">\n",
              "      <th></th>\n",
              "      <th>min_temp °c</th>\n",
              "      <th>max_temp °c</th>\n",
              "      <th>rain mm</th>\n",
              "      <th>humidity %</th>\n",
              "      <th>cloud_cover %</th>\n",
              "      <th>wind_speed km/h</th>\n",
              "      <th>wind_direction_numerical</th>\n",
              "    </tr>\n",
              "  </thead>\n",
              "  <tbody>\n",
              "    <tr>\n",
              "      <th>count</th>\n",
              "      <td>283619.000000</td>\n",
              "      <td>283619.000000</td>\n",
              "      <td>283619.000000</td>\n",
              "      <td>283619.000000</td>\n",
              "      <td>283619.000000</td>\n",
              "      <td>283619.000000</td>\n",
              "      <td>283619.000000</td>\n",
              "    </tr>\n",
              "    <tr>\n",
              "      <th>mean</th>\n",
              "      <td>7.095121</td>\n",
              "      <td>13.155603</td>\n",
              "      <td>2.504945</td>\n",
              "      <td>82.354398</td>\n",
              "      <td>56.109979</td>\n",
              "      <td>16.074798</td>\n",
              "      <td>198.894053</td>\n",
              "    </tr>\n",
              "    <tr>\n",
              "      <th>std</th>\n",
              "      <td>4.862391</td>\n",
              "      <td>5.860088</td>\n",
              "      <td>4.546878</td>\n",
              "      <td>8.852784</td>\n",
              "      <td>25.530083</td>\n",
              "      <td>7.393027</td>\n",
              "      <td>73.476368</td>\n",
              "    </tr>\n",
              "    <tr>\n",
              "      <th>min</th>\n",
              "      <td>-24.000000</td>\n",
              "      <td>-16.000000</td>\n",
              "      <td>0.000000</td>\n",
              "      <td>14.000000</td>\n",
              "      <td>0.000000</td>\n",
              "      <td>1.000000</td>\n",
              "      <td>0.000000</td>\n",
              "    </tr>\n",
              "    <tr>\n",
              "      <th>25%</th>\n",
              "      <td>4.000000</td>\n",
              "      <td>9.000000</td>\n",
              "      <td>0.000000</td>\n",
              "      <td>77.000000</td>\n",
              "      <td>37.000000</td>\n",
              "      <td>11.000000</td>\n",
              "      <td>157.500000</td>\n",
              "    </tr>\n",
              "    <tr>\n",
              "      <th>50%</th>\n",
              "      <td>7.000000</td>\n",
              "      <td>13.000000</td>\n",
              "      <td>0.400000</td>\n",
              "      <td>83.000000</td>\n",
              "      <td>58.000000</td>\n",
              "      <td>15.000000</td>\n",
              "      <td>202.500000</td>\n",
              "    </tr>\n",
              "    <tr>\n",
              "      <th>75%</th>\n",
              "      <td>11.000000</td>\n",
              "      <td>17.000000</td>\n",
              "      <td>3.100000</td>\n",
              "      <td>89.000000</td>\n",
              "      <td>76.000000</td>\n",
              "      <td>20.000000</td>\n",
              "      <td>247.500000</td>\n",
              "    </tr>\n",
              "    <tr>\n",
              "      <th>max</th>\n",
              "      <td>30.000000</td>\n",
              "      <td>43.000000</td>\n",
              "      <td>138.300000</td>\n",
              "      <td>100.000000</td>\n",
              "      <td>100.000000</td>\n",
              "      <td>62.000000</td>\n",
              "      <td>337.500000</td>\n",
              "    </tr>\n",
              "  </tbody>\n",
              "</table>\n",
              "</div>\n",
              "    <div class=\"colab-df-buttons\">\n",
              "\n",
              "  <div class=\"colab-df-container\">\n",
              "    <button class=\"colab-df-convert\" onclick=\"convertToInteractive('df-3d92305a-52ab-46c2-9491-91fcd77de175')\"\n",
              "            title=\"Convert this dataframe to an interactive table.\"\n",
              "            style=\"display:none;\">\n",
              "\n",
              "  <svg xmlns=\"http://www.w3.org/2000/svg\" height=\"24px\" viewBox=\"0 -960 960 960\">\n",
              "    <path d=\"M120-120v-720h720v720H120Zm60-500h600v-160H180v160Zm220 220h160v-160H400v160Zm0 220h160v-160H400v160ZM180-400h160v-160H180v160Zm440 0h160v-160H620v160ZM180-180h160v-160H180v160Zm440 0h160v-160H620v160Z\"/>\n",
              "  </svg>\n",
              "    </button>\n",
              "\n",
              "  <style>\n",
              "    .colab-df-container {\n",
              "      display:flex;\n",
              "      gap: 12px;\n",
              "    }\n",
              "\n",
              "    .colab-df-convert {\n",
              "      background-color: #E8F0FE;\n",
              "      border: none;\n",
              "      border-radius: 50%;\n",
              "      cursor: pointer;\n",
              "      display: none;\n",
              "      fill: #1967D2;\n",
              "      height: 32px;\n",
              "      padding: 0 0 0 0;\n",
              "      width: 32px;\n",
              "    }\n",
              "\n",
              "    .colab-df-convert:hover {\n",
              "      background-color: #E2EBFA;\n",
              "      box-shadow: 0px 1px 2px rgba(60, 64, 67, 0.3), 0px 1px 3px 1px rgba(60, 64, 67, 0.15);\n",
              "      fill: #174EA6;\n",
              "    }\n",
              "\n",
              "    .colab-df-buttons div {\n",
              "      margin-bottom: 4px;\n",
              "    }\n",
              "\n",
              "    [theme=dark] .colab-df-convert {\n",
              "      background-color: #3B4455;\n",
              "      fill: #D2E3FC;\n",
              "    }\n",
              "\n",
              "    [theme=dark] .colab-df-convert:hover {\n",
              "      background-color: #434B5C;\n",
              "      box-shadow: 0px 1px 3px 1px rgba(0, 0, 0, 0.15);\n",
              "      filter: drop-shadow(0px 1px 2px rgba(0, 0, 0, 0.3));\n",
              "      fill: #FFFFFF;\n",
              "    }\n",
              "  </style>\n",
              "\n",
              "    <script>\n",
              "      const buttonEl =\n",
              "        document.querySelector('#df-3d92305a-52ab-46c2-9491-91fcd77de175 button.colab-df-convert');\n",
              "      buttonEl.style.display =\n",
              "        google.colab.kernel.accessAllowed ? 'block' : 'none';\n",
              "\n",
              "      async function convertToInteractive(key) {\n",
              "        const element = document.querySelector('#df-3d92305a-52ab-46c2-9491-91fcd77de175');\n",
              "        const dataTable =\n",
              "          await google.colab.kernel.invokeFunction('convertToInteractive',\n",
              "                                                    [key], {});\n",
              "        if (!dataTable) return;\n",
              "\n",
              "        const docLinkHtml = 'Like what you see? Visit the ' +\n",
              "          '<a target=\"_blank\" href=https://colab.research.google.com/notebooks/data_table.ipynb>data table notebook</a>'\n",
              "          + ' to learn more about interactive tables.';\n",
              "        element.innerHTML = '';\n",
              "        dataTable['output_type'] = 'display_data';\n",
              "        await google.colab.output.renderOutput(dataTable, element);\n",
              "        const docLink = document.createElement('div');\n",
              "        docLink.innerHTML = docLinkHtml;\n",
              "        element.appendChild(docLink);\n",
              "      }\n",
              "    </script>\n",
              "  </div>\n",
              "\n",
              "\n",
              "<div id=\"df-d9132aee-b3ad-4935-a615-4dd8850ee8d7\">\n",
              "  <button class=\"colab-df-quickchart\" onclick=\"quickchart('df-d9132aee-b3ad-4935-a615-4dd8850ee8d7')\"\n",
              "            title=\"Suggest charts\"\n",
              "            style=\"display:none;\">\n",
              "\n",
              "<svg xmlns=\"http://www.w3.org/2000/svg\" height=\"24px\"viewBox=\"0 0 24 24\"\n",
              "     width=\"24px\">\n",
              "    <g>\n",
              "        <path d=\"M19 3H5c-1.1 0-2 .9-2 2v14c0 1.1.9 2 2 2h14c1.1 0 2-.9 2-2V5c0-1.1-.9-2-2-2zM9 17H7v-7h2v7zm4 0h-2V7h2v10zm4 0h-2v-4h2v4z\"/>\n",
              "    </g>\n",
              "</svg>\n",
              "  </button>\n",
              "\n",
              "<style>\n",
              "  .colab-df-quickchart {\n",
              "      --bg-color: #E8F0FE;\n",
              "      --fill-color: #1967D2;\n",
              "      --hover-bg-color: #E2EBFA;\n",
              "      --hover-fill-color: #174EA6;\n",
              "      --disabled-fill-color: #AAA;\n",
              "      --disabled-bg-color: #DDD;\n",
              "  }\n",
              "\n",
              "  [theme=dark] .colab-df-quickchart {\n",
              "      --bg-color: #3B4455;\n",
              "      --fill-color: #D2E3FC;\n",
              "      --hover-bg-color: #434B5C;\n",
              "      --hover-fill-color: #FFFFFF;\n",
              "      --disabled-bg-color: #3B4455;\n",
              "      --disabled-fill-color: #666;\n",
              "  }\n",
              "\n",
              "  .colab-df-quickchart {\n",
              "    background-color: var(--bg-color);\n",
              "    border: none;\n",
              "    border-radius: 50%;\n",
              "    cursor: pointer;\n",
              "    display: none;\n",
              "    fill: var(--fill-color);\n",
              "    height: 32px;\n",
              "    padding: 0;\n",
              "    width: 32px;\n",
              "  }\n",
              "\n",
              "  .colab-df-quickchart:hover {\n",
              "    background-color: var(--hover-bg-color);\n",
              "    box-shadow: 0 1px 2px rgba(60, 64, 67, 0.3), 0 1px 3px 1px rgba(60, 64, 67, 0.15);\n",
              "    fill: var(--button-hover-fill-color);\n",
              "  }\n",
              "\n",
              "  .colab-df-quickchart-complete:disabled,\n",
              "  .colab-df-quickchart-complete:disabled:hover {\n",
              "    background-color: var(--disabled-bg-color);\n",
              "    fill: var(--disabled-fill-color);\n",
              "    box-shadow: none;\n",
              "  }\n",
              "\n",
              "  .colab-df-spinner {\n",
              "    border: 2px solid var(--fill-color);\n",
              "    border-color: transparent;\n",
              "    border-bottom-color: var(--fill-color);\n",
              "    animation:\n",
              "      spin 1s steps(1) infinite;\n",
              "  }\n",
              "\n",
              "  @keyframes spin {\n",
              "    0% {\n",
              "      border-color: transparent;\n",
              "      border-bottom-color: var(--fill-color);\n",
              "      border-left-color: var(--fill-color);\n",
              "    }\n",
              "    20% {\n",
              "      border-color: transparent;\n",
              "      border-left-color: var(--fill-color);\n",
              "      border-top-color: var(--fill-color);\n",
              "    }\n",
              "    30% {\n",
              "      border-color: transparent;\n",
              "      border-left-color: var(--fill-color);\n",
              "      border-top-color: var(--fill-color);\n",
              "      border-right-color: var(--fill-color);\n",
              "    }\n",
              "    40% {\n",
              "      border-color: transparent;\n",
              "      border-right-color: var(--fill-color);\n",
              "      border-top-color: var(--fill-color);\n",
              "    }\n",
              "    60% {\n",
              "      border-color: transparent;\n",
              "      border-right-color: var(--fill-color);\n",
              "    }\n",
              "    80% {\n",
              "      border-color: transparent;\n",
              "      border-right-color: var(--fill-color);\n",
              "      border-bottom-color: var(--fill-color);\n",
              "    }\n",
              "    90% {\n",
              "      border-color: transparent;\n",
              "      border-bottom-color: var(--fill-color);\n",
              "    }\n",
              "  }\n",
              "</style>\n",
              "\n",
              "  <script>\n",
              "    async function quickchart(key) {\n",
              "      const quickchartButtonEl =\n",
              "        document.querySelector('#' + key + ' button');\n",
              "      quickchartButtonEl.disabled = true;  // To prevent multiple clicks.\n",
              "      quickchartButtonEl.classList.add('colab-df-spinner');\n",
              "      try {\n",
              "        const charts = await google.colab.kernel.invokeFunction(\n",
              "            'suggestCharts', [key], {});\n",
              "      } catch (error) {\n",
              "        console.error('Error during call to suggestCharts:', error);\n",
              "      }\n",
              "      quickchartButtonEl.classList.remove('colab-df-spinner');\n",
              "      quickchartButtonEl.classList.add('colab-df-quickchart-complete');\n",
              "    }\n",
              "    (() => {\n",
              "      let quickchartButtonEl =\n",
              "        document.querySelector('#df-d9132aee-b3ad-4935-a615-4dd8850ee8d7 button');\n",
              "      quickchartButtonEl.style.display =\n",
              "        google.colab.kernel.accessAllowed ? 'block' : 'none';\n",
              "    })();\n",
              "  </script>\n",
              "</div>\n",
              "\n",
              "    </div>\n",
              "  </div>\n"
            ],
            "application/vnd.google.colaboratory.intrinsic+json": {
              "type": "dataframe",
              "summary": "{\n  \"name\": \"df\",\n  \"rows\": 8,\n  \"fields\": [\n    {\n      \"column\": \"min_temp \\u00b0c\",\n      \"properties\": {\n        \"dtype\": \"number\",\n        \"std\": 100272.44200173474,\n        \"min\": -24.0,\n        \"max\": 283619.0,\n        \"num_unique_values\": 8,\n        \"samples\": [\n          7.095120566675717,\n          7.0,\n          283619.0\n        ],\n        \"semantic_type\": \"\",\n        \"description\": \"\"\n      }\n    },\n    {\n      \"column\": \"max_temp \\u00b0c\",\n      \"properties\": {\n        \"dtype\": \"number\",\n        \"std\": 100270.1664415465,\n        \"min\": -16.0,\n        \"max\": 283619.0,\n        \"num_unique_values\": 8,\n        \"samples\": [\n          13.155603115447132,\n          13.0,\n          283619.0\n        ],\n        \"semantic_type\": \"\",\n        \"description\": \"\"\n      }\n    },\n    {\n      \"column\": \"rain mm\",\n      \"properties\": {\n        \"dtype\": \"number\",\n        \"std\": 100266.95233129126,\n        \"min\": 0.0,\n        \"max\": 283619.0,\n        \"num_unique_values\": 7,\n        \"samples\": [\n          283619.0,\n          2.5049446616764044,\n          3.1\n        ],\n        \"semantic_type\": \"\",\n        \"description\": \"\"\n      }\n    },\n    {\n      \"column\": \"humidity %\",\n      \"properties\": {\n        \"dtype\": \"number\",\n        \"std\": 100251.52409015849,\n        \"min\": 8.85278385084395,\n        \"max\": 283619.0,\n        \"num_unique_values\": 8,\n        \"samples\": [\n          82.3543979775685,\n          83.0,\n          283619.0\n        ],\n        \"semantic_type\": \"\",\n        \"description\": \"\"\n      }\n    },\n    {\n      \"column\": \"cloud_cover %\",\n      \"properties\": {\n        \"dtype\": \"number\",\n        \"std\": 100256.65273632086,\n        \"min\": 0.0,\n        \"max\": 283619.0,\n        \"num_unique_values\": 8,\n        \"samples\": [\n          56.10997852753165,\n          58.0,\n          283619.0\n        ],\n        \"semantic_type\": \"\",\n        \"description\": \"\"\n      }\n    },\n    {\n      \"column\": \"wind_speed km/h\",\n      \"properties\": {\n        \"dtype\": \"number\",\n        \"std\": 100267.77015889774,\n        \"min\": 1.0,\n        \"max\": 283619.0,\n        \"num_unique_values\": 8,\n        \"samples\": [\n          16.074797527669162,\n          15.0,\n          283619.0\n        ],\n        \"semantic_type\": \"\",\n        \"description\": \"\"\n      }\n    },\n    {\n      \"column\": \"wind_direction_numerical\",\n      \"properties\": {\n        \"dtype\": \"number\",\n        \"std\": 100213.02549657549,\n        \"min\": 0.0,\n        \"max\": 283619.0,\n        \"num_unique_values\": 8,\n        \"samples\": [\n          198.89405328980075,\n          202.5,\n          283619.0\n        ],\n        \"semantic_type\": \"\",\n        \"description\": \"\"\n      }\n    }\n  ]\n}"
            }
          },
          "metadata": {},
          "execution_count": 152
        }
      ]
    },
    {
      "cell_type": "markdown",
      "source": [
        "##**Modify data**"
      ],
      "metadata": {
        "id": "3c2jfUR3xw2-"
      }
    },
    {
      "cell_type": "markdown",
      "source": [
        "1. One-Hot Encoding for 'location' Column"
      ],
      "metadata": {
        "id": "dh9LcztNR9DP"
      }
    },
    {
      "cell_type": "code",
      "source": [
        "df = pd.get_dummies(df, columns=['location'], prefix='location')"
      ],
      "metadata": {
        "id": "OyNhpckUSDD9"
      },
      "execution_count": null,
      "outputs": []
    },
    {
      "cell_type": "markdown",
      "source": [
        "2. Convert 'date' Column to Datetime"
      ],
      "metadata": {
        "id": "05NiikHISGCv"
      }
    },
    {
      "cell_type": "code",
      "source": [
        "df['date'] = pd.to_datetime(df['date'])"
      ],
      "metadata": {
        "id": "cWZvBfDLSvI4"
      },
      "execution_count": null,
      "outputs": []
    },
    {
      "cell_type": "markdown",
      "source": [
        "3. Extract Month and One-Hot Encode"
      ],
      "metadata": {
        "id": "6YwJCuJbS5fB"
      }
    },
    {
      "cell_type": "code",
      "source": [
        "df['month'] = df['date'].dt.month\n",
        "df = pd.get_dummies(df, columns=['month'], prefix='month')"
      ],
      "metadata": {
        "id": "ZoWL2KE8S72K"
      },
      "execution_count": null,
      "outputs": []
    },
    {
      "cell_type": "markdown",
      "source": [
        "4. Assign Seasons Based on Month"
      ],
      "metadata": {
        "id": "11DLJChES_3G"
      }
    },
    {
      "cell_type": "code",
      "source": [
        "# Winter: Dec (12), Jan (1), Feb (2); Spring: Mar (3), Apr (4), May (5);\n",
        "# Summer: Jun (6), Jul (7), Aug (8); Autumn: Sep (9), Oct (10), Nov (11)\n",
        "def assign_season(month):\n",
        "    if month in [12, 1, 2]:\n",
        "        return 'winter'\n",
        "    elif month in [3, 4, 5]:\n",
        "        return 'spring'\n",
        "    elif month in [6, 7, 8]:\n",
        "        return 'summer'\n",
        "    else:\n",
        "        return 'autumn'\n",
        "\n",
        "df['season'] = df['date'].dt.month.apply(assign_season)"
      ],
      "metadata": {
        "id": "NB5nMeq_TByU"
      },
      "execution_count": null,
      "outputs": []
    },
    {
      "cell_type": "markdown",
      "source": [
        "5. One-Hot Encoding for 'season' Column"
      ],
      "metadata": {
        "id": "1ZL8llT4TF3G"
      }
    },
    {
      "cell_type": "code",
      "source": [
        "df = pd.get_dummies(df, columns=['season'], prefix='season')"
      ],
      "metadata": {
        "id": "IqcZnMwuTJdS"
      },
      "execution_count": null,
      "outputs": []
    },
    {
      "cell_type": "markdown",
      "source": [
        "##**Improved Model Pipeline**"
      ],
      "metadata": {
        "id": "ZJhnQ2Yh9F08"
      }
    },
    {
      "cell_type": "markdown",
      "source": [
        "Features (X) and Target (y)"
      ],
      "metadata": {
        "id": "vnUvQa86tAWc"
      }
    },
    {
      "cell_type": "code",
      "source": [
        "X = df.drop(columns=['rain mm', 'date', 'wind_direction'])\n",
        "y = df['rain mm']"
      ],
      "metadata": {
        "id": "AceIoluvs8KS"
      },
      "execution_count": null,
      "outputs": []
    },
    {
      "cell_type": "code",
      "source": [
        "# Ensure all columns are numeric\n",
        "X = X.apply(pd.to_numeric, errors='coerce')\n",
        "\n",
        "# Replace NaN and infinite values\n",
        "X = X.replace([np.inf, -np.inf], np.nan).fillna(X.mean())"
      ],
      "metadata": {
        "id": "dPTEUML27T3L"
      },
      "execution_count": null,
      "outputs": []
    },
    {
      "cell_type": "markdown",
      "source": [
        "6. calculate the correlation matrix and identify highly correlated features (correlation > 0.9). The highly correlated features will be removed"
      ],
      "metadata": {
        "id": "sZHdgolJtFQN"
      }
    },
    {
      "cell_type": "code",
      "source": [
        "import numpy as np\n",
        "import pandas as pd\n",
        "from joblib import Parallel, delayed\n",
        "\n",
        "# Ensure all columns in X are numeric\n",
        "X = X.apply(pd.to_numeric, errors='coerce')\n",
        "\n",
        "# Replace NaN and infinite values with a suitable value (e.g., 0 or mean)\n",
        "X = X.replace([np.inf, -np.inf], np.nan).fillna(0)\n",
        "\n",
        "# Step 1: Compute the correlation matrix using Pandas\n",
        "correlation_matrix = X.corr()\n",
        "\n",
        "# Step 2: Identify highly correlated features\n",
        "# Only consider the upper triangle of the correlation matrix\n",
        "upper_triangle = correlation_matrix.where(np.triu(np.ones(correlation_matrix.shape), k=1).astype(bool))\n",
        "\n",
        "# Find features with a correlation above the threshold (e.g., 0.85)\n",
        "threshold = 0.85\n",
        "to_drop = [\n",
        "    column for column in upper_triangle.columns\n",
        "    if any(upper_triangle[column] > threshold)\n",
        "]\n",
        "\n",
        "print(f\"Features to drop due to high correlation: {to_drop}\")\n",
        "\n",
        "# Step 3: Drop the identified features\n",
        "X = X.drop(columns=to_drop)\n",
        "\n",
        "# Print the reduced DataFrame\n",
        "print(f\"Shape of original data: {X.shape}\")\n",
        "print(f\"Shape of reduced data: {X.shape}\")"
      ],
      "metadata": {
        "id": "n2e94fYBylFW",
        "colab": {
          "base_uri": "https://localhost:8080/"
        },
        "outputId": "4a0f7a2a-bd36-4690-86b4-9b91b179a468"
      },
      "execution_count": null,
      "outputs": [
        {
          "output_type": "stream",
          "name": "stdout",
          "text": [
            "Features to drop due to high correlation: ['max_temp °c']\n",
            "Shape of original data: (283619, 525)\n",
            "Shape of reduced data: (283619, 525)\n"
          ]
        }
      ]
    },
    {
      "cell_type": "markdown",
      "source": [
        "7. scale the features using StandardScaler"
      ],
      "metadata": {
        "id": "zKE6sYDxt0PW"
      }
    },
    {
      "cell_type": "code",
      "source": [
        "# Scale the features using StandardScaler\n",
        "scaler = StandardScaler()\n",
        "X_scaled = scaler.fit_transform(X)"
      ],
      "metadata": {
        "id": "hn58iMq3t5FB"
      },
      "execution_count": null,
      "outputs": []
    },
    {
      "cell_type": "markdown",
      "source": [
        "train model"
      ],
      "metadata": {
        "id": "pKYzEqt6t8RI"
      }
    },
    {
      "cell_type": "code",
      "source": [
        "# Split data\n",
        "X_train, X_test, y_train, y_test = train_test_split(X_scaled, y, test_size=0.2, random_state=42)\n",
        "\n",
        "# Create the XGBRegressor model with 'gblinear' booster for linear regression\n",
        "model = xgb.XGBRegressor(objective='reg:squarederror', booster='gblinear', eval_metric='rmse')\n",
        "\n",
        "# Train the model\n",
        "model.fit(X_train, y_train)\n",
        "\n",
        "# Predict on the test set\n",
        "y_pred = model.predict(X_test)\n",
        "\n",
        "# Clip predictions to ensure no negative values\n",
        "y_pred_clipped = np.clip(y_pred, 0, None)  # Clipping values below 0 to 0"
      ],
      "metadata": {
        "id": "RdOzHiQat-pE"
      },
      "execution_count": null,
      "outputs": []
    },
    {
      "cell_type": "markdown",
      "source": [
        "##**Error Analysis**"
      ],
      "metadata": {
        "id": "eEJejYtA0GjS"
      }
    },
    {
      "cell_type": "code",
      "source": [
        "# Calculate MSE, RMSE, MAE, and R-squared\n",
        "improved_mse = mean_squared_error(y_test, y_pred_clipped)\n",
        "improved_rmse = np.sqrt(improved_mse)\n",
        "improved_mae = mean_absolute_error(y_test, y_pred_clipped)\n",
        "improved_r2 = r2_score(y_test, y_pred_clipped)\n",
        "\n",
        "print(f\"{'Metric':<30}{'Basic':<20}{'Improved':<20}\")\n",
        "print(f\"{'-' * 70}\")\n",
        "print(f\"{'Mean Squared Error':<30}{basic_mse:<20.4f}{improved_mse:<20.4f}\")\n",
        "print(f\"{'Root Mean Squared Error':<30}{basic_rmse:<20.4f}{improved_rmse:<20.4f}\")\n",
        "print(f\"{'Mean Absolute Error':<30}{basic_mae:<20.4f}{improved_mae:<20.4f}\")\n",
        "print(f\"{'R-squared Score':<30}{basic_r2:<20.4f}{improved_r2:<20.4f}\")"
      ],
      "metadata": {
        "colab": {
          "base_uri": "https://localhost:8080/"
        },
        "id": "YWACTRme0Hbj",
        "outputId": "d21a0531-f05e-4728-ce88-a9c32e0264b9"
      },
      "execution_count": null,
      "outputs": [
        {
          "output_type": "stream",
          "name": "stdout",
          "text": [
            "Metric                        Basic               Improved            \n",
            "----------------------------------------------------------------------\n",
            "Mean Squared Error            16.4605             15.4185             \n",
            "Root Mean Squared Error       4.0572              3.9266              \n",
            "Mean Absolute Error           2.5345              2.3524              \n",
            "R-squared Score               0.2238              0.2729              \n"
          ]
        }
      ]
    },
    {
      "cell_type": "markdown",
      "source": [
        "#3.   Analyzing the Improved Model and Drawing Conclusions"
      ],
      "metadata": {
        "id": "h-FVlBeJ0i0K"
      }
    },
    {
      "cell_type": "markdown",
      "source": [
        "**Mean Squared Error:** decreased from 16.4605 to 15.4185\n",
        "\n",
        "**Root Mean Squared Error:** decreased from 4.0572 to 3.9266"
      ],
      "metadata": {
        "id": "VZR5uhjw6m4z"
      }
    },
    {
      "cell_type": "markdown",
      "source": [
        "**Explanation:**\n",
        "The MSE/RMSE decreased beacuse we made the following improvements:\n",
        "* Proper Feature Scaling: By reducing noise from unbalanced feature scales, the model achieves better predictions and lowers overall error.\n",
        "* Improved Location Encoding: By correctly encoding this critical feature, the model can better leverage geographic differences in rainfall patterns, reducing prediction errors.\n",
        "* Incorporating Seasonal Trends: These features help the model generalize better across the data, leading to more accurate predictions and a lower MSE/RMSE.\n",
        "* Avoiding Negative Predictions: This adjustment avoids artificially high squared errors caused by negative predictions, directly reducing MSE/RMSE.\n",
        "* Handling Multicollinearity: With reduced multicollinearity, the model becomes more stable, leading to consistent predictions and improved error metrics.\n",
        "\n",
        "Each of these adjustments improved the model’s ability to predict rainfall accurately, thereby reducing the mean squared difference between predicted and actual values."
      ],
      "metadata": {
        "id": "utYVp1bu8yM2"
      }
    },
    {
      "cell_type": "markdown",
      "source": [
        "**Mean Absolute Error:** decreased from 2.5345 to 2.3524"
      ],
      "metadata": {
        "id": "ZPkKwgLpv8fk"
      }
    },
    {
      "cell_type": "markdown",
      "source": [
        "**Explantion:**\n",
        "The MAE decreased beacuse we made the following improvements:\n",
        "* Proper Feature Scaling: Improved the model's ability to make consistent predictions, reducing the average magnitude of errors.\n",
        "* Improved Location Encoding: More accurate predictions across different locations led to a lower average error.\n",
        "* Incorporating Seasonal Trends: Capturing seasonality improved the model's overall accuracy, lowering the mean absolute differences between predicted and actual rainfall.\n",
        "* Avoiding Negative Predictions: Clipping predictions to realistic values reduced the absolute errors, especially for cases where the model might have predicted significantly negative values.\n",
        "* Handling Multicollinearity: With redundant features removed, the model avoided overfitting, leading to smaller average errors across the test set."
      ],
      "metadata": {
        "id": "80wPmlbqwLyo"
      }
    },
    {
      "cell_type": "markdown",
      "source": [
        "**R^2:** increased from 0.2238 to 0.2729."
      ],
      "metadata": {
        "id": "vNDZpOwCxpxT"
      }
    },
    {
      "cell_type": "markdown",
      "source": [
        "**Explanation:**\n",
        "The R^2 increased because we made the following improvement:\n",
        "* Proper Feature Scaling: By scaling the features, the model better identified patterns in the data, reducing residual errors , leading to an increase in R^2.\n",
        "*  Improved Location Encoding: One-hot encoding allowed the model to treat each location independently, capturing geographic variations in rainfall more accurately. This improved the model’s ability to explain variance in rainfall patterns, increasing R^2.\n",
        "* Incorporating Seasonal Trends: Adding month and season features helped the model account for cyclical patterns in weather (e.g., rainy vs. dry seasons). This significantly improved the model's ability to explain variations in rainfall throughout the year, boosting R^2.\n",
        "* Avoiding Negative Predictions: Clipping predictions to non-negative values ensured better alignment with actual rainfall, reducing error variance and increasing R^2.\n",
        "* Handling Multicollinearity: Removing redundant features focused the model on the most informative ones, improving generalization and reducing residual errors, which increased R^2."
      ],
      "metadata": {
        "id": "U5jWQ3ZHxtf3"
      }
    },
    {
      "cell_type": "markdown",
      "source": [
        "The improved model performed better than the baseline, showing reductions in error metrics like MSE an increases in R^2 and a more stable prediction range. However, the improvement was not as significant as we had anticipated. While the adjustments contributed to better predictions, the relatively modest gains suggest that the chosen model architecture—using a linear booster (gblinear)—may not be the best fit for the complexity of the dataset. Rainfall prediction often involves nonlinear relationships and intricate interactions between features like cloud cover, humidity, and temperature, which a linear model might struggle to capture effectively. This indicates that exploring more sophisticated models, such as tree-based methods or neural networks, might yield better results."
      ],
      "metadata": {
        "id": "4ot6-7O1PeB-"
      }
    },
    {
      "cell_type": "markdown",
      "source": [
        "###**Permutation Importance:**"
      ],
      "metadata": {
        "id": "CjZgIeAaQMUm"
      }
    },
    {
      "cell_type": "markdown",
      "source": [
        "Permutation Importance is a model-agnostic technique used to evaluate the importance of features in a predictive model. It measures the change in a model's performance when the values of a particular feature are randomly shuffled. By shuffling, the relationship between that feature and the target variable is broken, and any drop in model performance indicates how much the model depends on that feature.\n",
        "\n",
        "Unlike methods that focus on internal model parameters, permutation importance assesses how each feature actually affects the model’s predictions. This gives a clearer picture of feature importance in the context of your data and target variable.\n",
        "\n",
        "It will help us gain insights into which features most influence rainfall predictions, providing actionable insights for meteorological analysis."
      ],
      "metadata": {
        "id": "MfI109_U2GV7"
      }
    },
    {
      "cell_type": "code",
      "source": [
        "from sklearn.inspection import permutation_importance\n",
        "\n",
        "# Compute permutation importance\n",
        "perm_importance = permutation_importance(model, X_test, y_test, n_repeats=2, random_state=42)\n"
      ],
      "metadata": {
        "id": "-ZWXxYK80p_T"
      },
      "execution_count": null,
      "outputs": []
    },
    {
      "cell_type": "code",
      "source": [
        "# Create a DataFrame for better visualization\n",
        "importances_df = pd.DataFrame(\n",
        "    {\n",
        "        'feature': X.columns,\n",
        "        'importance': perm_importance.importances_mean,\n",
        "        'std': perm_importance.importances_std\n",
        "    }\n",
        ").sort_values(by='importance', ascending=False)\n",
        "\n",
        "# Display the top 20 features\n",
        "top_20_importances = importances_df.head(20)\n",
        "print(top_20_importances)\n",
        "\n",
        "# Plot the top 20 feature importances\n",
        "plt.figure(figsize=(12, 8))\n",
        "plt.barh(top_20_importances['feature'], top_20_importances['importance'], xerr=top_20_importances['std'])\n",
        "plt.xlabel(\"Permutation Importance\")\n",
        "plt.ylabel(\"Feature\")\n",
        "plt.title(\"Top 20 Feature Importance using Permutation\")\n",
        "plt.gca().invert_yaxis()  # Invert y-axis to show the most important feature on top\n",
        "plt.show()"
      ],
      "metadata": {
        "colab": {
          "base_uri": "https://localhost:8080/",
          "height": 1000
        },
        "id": "mI9TjP847j6Q",
        "outputId": "5e10cc52-5e0b-44bb-e301-b31467747808"
      },
      "execution_count": null,
      "outputs": [
        {
          "output_type": "stream",
          "name": "stdout",
          "text": [
            "                      feature  importance       std\n",
            "3               cloud_cover %    0.322350  0.007149\n",
            "510                   month_2    0.183661  0.002791\n",
            "4             wind_speed km/h    0.167685  0.002378\n",
            "511                   month_3    0.117551  0.003236\n",
            "509                   month_1    0.072738  0.001339\n",
            "0                 min_temp °c    0.050775  0.000930\n",
            "512                   month_4    0.017335  0.000847\n",
            "2                  humidity %    0.017305  0.000223\n",
            "5    wind_direction_numerical    0.012660  0.000864\n",
            "174         location_Merehead    0.009278  0.000573\n",
            "235        location_Newcastle    0.009107  0.000706\n",
            "151      location_Llan-Y-Pwll    0.008571  0.000173\n",
            "351          location_Penycae    0.007737  0.000710\n",
            "325       location_Pen-Y-Bryn    0.007632  0.000631\n",
            "187           location_Minera    0.007582  0.000157\n",
            "191      location_Monwode Lea    0.007507  0.001427\n",
            "348   location_Pentre Cilgwyn    0.007499  0.001178\n",
            "314         location_Parkgate    0.007309  0.000227\n",
            "149     location_Little Green    0.007281  0.000980\n",
            "399      location_Portknockie    0.007244  0.000155\n"
          ]
        },
        {
          "output_type": "display_data",
          "data": {
            "text/plain": [
              "<Figure size 1200x800 with 1 Axes>"
            ],
            "image/png": "[encoded data removed]"
          },
          "metadata": {}
        }
      ]
    },
    {
      "cell_type": "markdown",
      "source": [
        "Key Observations from permutation importance:\n",
        "1. **Dominant Features:**\n",
        "  * cloud_cover % (importance: 0.322):\n",
        "    This is the most important feature in the model, which makes sense because cloud cover is a strong indicator of precipitation. High cloud cover is often associated with rain, while low cloud cover typically indicates dry conditions.\n",
        "  * month_2 (importance: 0.184), month_3 (importance: 0.118), and other month indicators:\n",
        "    Monthly features capture seasonal trends in rainfall. For example:\n",
        "    In February (month_2), rainfall might peak in certain regions due to seasonal weather patterns (e.g., monsoons or winter storms).\n",
        "    March (month_3) may see transitions in weather patterns.\n",
        "    These features are critical for capturing yearly cycles in weather.\n",
        "\n",
        "2. **Important but Secondary Features:**\n",
        "  * wind_speed km/h (importance: 0.168):\n",
        "   Wind speed influences weather patterns, including the movement of rain-bearing clouds. For example, strong winds might bring moisture-laden air into a region, increasing the likelihood of rain.\n",
        "  * min_temp °c (importance: 0.051):\n",
        "    Minimum temperature correlates with humidity and the potential for precipitation. Cooler temperatures can lead to dew point saturation, forming clouds and rain.\n",
        "\n",
        "3. **Low-Importance Features:**\n",
        "  * humidity % (importance: 0.017):\n",
        "    While humidity is related to rainfall, it’s often secondary because high humidity alone doesn’t guarantee rain. Other factors like cloud cover and wind patterns play larger roles.\n",
        "  * wind_direction_numerical (importance: 0.013):\n",
        "    Wind direction is less directly impactful than other features but can still provide useful regional patterns.\n",
        "4. **Location-Based Features:**\n",
        "    * Locations like Merehead (importance: 0.0093), Newcastle (importance: 0.0091), and others capture geographic differences in rainfall. These features were encoded using a one-hot vector representation, which helped the model consider the unique characteristics of each location independently without imposing a false ordinal relationship. This approach allows the model to effectively learn how specific locations influence rainfall based on factors like elevation, proximity to water bodies, or local climate.\n",
        "    \n",
        "    Their relatively low importance suggests that rainfall is more influenced by general meteorological variables (e.g., cloud cover, wind speed) than by fixed geographic factors in this dataset."
      ],
      "metadata": {
        "id": "25gqFKss-Xc4"
      }
    },
    {
      "cell_type": "markdown",
      "source": [
        "## Visualisations"
      ],
      "metadata": {
        "id": "D5YG3rtq0cvK"
      }
    },
    {
      "cell_type": "markdown",
      "source": [
        "Metrics Comparison:"
      ],
      "metadata": {
        "id": "3VOiCpJuF7wx"
      }
    },
    {
      "cell_type": "code",
      "source": [
        "# Metrics from your error analysis\n",
        "metrics = ['Mean Squared Error (MSE)', 'Root Mean Squared Error (RMSE)', 'Mean Absolute Error (MAE)', 'R-squared (R²)']\n",
        "\n",
        "# Replace these with your actual values\n",
        "basic_values = [basic_mse, basic_rmse, basic_mae, basic_r2]\n",
        "improved_values = [improved_mse, improved_rmse, improved_mae, improved_r2]\n",
        "\n",
        "# Plot comparison\n",
        "x = np.arange(len(metrics))  # the label locations\n",
        "width = 0.35  # the width of the bars\n",
        "\n",
        "plt.figure(figsize=(12, 6))\n",
        "plt.bar(x - width/2, basic_values, width, label='Basic Model', color='lightcoral')\n",
        "plt.bar(x + width/2, improved_values, width, label='Improved Model', color='skyblue')\n",
        "\n",
        "# Add labels, title, and legend\n",
        "plt.xlabel('Metrics')\n",
        "plt.ylabel('Values')\n",
        "plt.title('Comparison of Metrics: Basic vs. Improved Model')\n",
        "plt.xticks(x, metrics, rotation=30, ha='right')\n",
        "plt.legend()\n",
        "plt.grid(axis='y', linestyle='--', alpha=0.7)\n",
        "\n",
        "# Highlight R² as a higher-is-better metric\n",
        "for i, (b_val, i_val) in enumerate(zip(basic_values, improved_values)):\n",
        "    if i == 3:  # R² metric\n",
        "        plt.text(i - width / 2, b_val + 0.02, f\"{b_val:.2f}\", ha='center', va='bottom', fontsize=9)\n",
        "        plt.text(i + width / 2, i_val + 0.02, f\"{i_val:.2f}\", ha='center', va='bottom', fontsize=9)\n",
        "    else:\n",
        "        plt.text(i - width / 2, b_val, f\"{b_val:.2f}\", ha='center', va='bottom', fontsize=9)\n",
        "        plt.text(i + width / 2, i_val, f\"{i_val:.2f}\", ha='center', va='bottom', fontsize=9)\n",
        "\n",
        "plt.tight_layout()\n",
        "plt.show()"
      ],
      "metadata": {
        "id": "QcS5SeGa0fxt",
        "colab": {
          "base_uri": "https://localhost:8080/",
          "height": 591
        },
        "outputId": "272057ee-1749-4402-f6e6-18eaa65930e1"
      },
      "execution_count": null,
      "outputs": [
        {
          "output_type": "display_data",
          "data": {
            "text/plain": [
              "<Figure size 1200x600 with 1 Axes>"
            ],
            "image/png": "[encoded data removed]"
          },
          "metadata": {}
        }
      ]
    },
    {
      "cell_type": "markdown",
      "source": [
        "* X-axis (Categories):\n",
        "\n",
        "  The x-axis represents the metrics being compared:\n",
        "Mean Squared Error (MSE)\n",
        "Root Mean Squared Error (RMSE)\n",
        "Mean Absolute Error (MAE)\n",
        "R-squared (R²)\n",
        "Bars:\n",
        "\n",
        "  For each metric, there are two bars:\n",
        "Basic Model (light coral color): Represents the performance of the baseline model.\n",
        "Improved Model (sky blue color): Represents the performance of the improved model.\n",
        "Y-axis (Values):\n",
        "\n",
        "* The y-axis represents the values of the metrics:\n",
        "For MSE, RMSE, and MAE, lower values are better.\n",
        "For R², higher values are better.\n",
        "\n",
        "\n",
        "As we can see from this plot, the MSE, RMSE, MAE decreased and the R^2 increased. As we previously explained, this means we improved our model with the improvements we added."
      ],
      "metadata": {
        "id": "HcVvTmVp0suP"
      }
    },
    {
      "cell_type": "markdown",
      "source": [
        "Residual Distribution Comparison:"
      ],
      "metadata": {
        "id": "HZElzPAjGA43"
      }
    },
    {
      "cell_type": "code",
      "source": [
        "residuals_before = basic_y_test - basic_y_pred\n",
        "residuals_after = y_test - y_pred_clipped\n",
        "\n",
        "plt.figure(figsize=(10, 6))\n",
        "plt.hist(residuals_before, bins=50, alpha=0.5, label='Before', color='red', edgecolor='black', density=True)\n",
        "plt.hist(residuals_after, bins=50, alpha=0.5, label='After', color='blue', edgecolor='black', density=True)\n",
        "plt.axvline(0, color='black', linestyle='--', linewidth=1)  # Line at zero residual\n",
        "plt.xlim(-10, 10)  # Zoom into residuals close to 0\n",
        "plt.xlabel('Residuals')\n",
        "plt.ylabel('Density')\n",
        "plt.title('Zoomed-In Residual Distribution: Before vs. After Improvements')\n",
        "plt.legend()\n",
        "plt.grid(axis='y')\n",
        "plt.show()"
      ],
      "metadata": {
        "colab": {
          "base_uri": "https://localhost:8080/",
          "height": 564
        },
        "id": "5DPHZrlg_Kki",
        "outputId": "4eaed7b5-8401-4c4d-d636-5503fdeb3031"
      },
      "execution_count": null,
      "outputs": [
        {
          "output_type": "display_data",
          "data": {
            "text/plain": [
              "<Figure size 1000x600 with 1 Axes>"
            ],
            "image/png": "[encoded data removed]"
          },
          "metadata": {}
        }
      ]
    },
    {
      "cell_type": "markdown",
      "source": [
        " Residual Distribution:\n",
        "\n",
        " This plot shows the distribution of residuals (differences between actual and predicted values) before and after improvements. Residuals are the differences between the actual values and the predicted values. Residuals close to\n",
        "0 indicate better predictions (i.e., the model is accurate).\n",
        "\n",
        "* Red Bars (\"Before\"):\n",
        "\n",
        "  These represent the residuals from the baseline model before improvements.\n",
        "\n",
        "* Blue Bars (\"After\"):\n",
        "\n",
        "  These represent the residuals from the improved model after making enhancements.\n",
        "\n",
        "* Black Vertical Line at 0:\n",
        "\n",
        "  This line represents perfect predictions (no residual).\n",
        "\n",
        "As we can see from the plot the model improved but not drastically:\n",
        "* **Overlap Between Residuals (Purple Region)**:\n",
        "The overlap of the red (Before) and blue (After) distributions indicates that many residuals remained similar between the two models.\n",
        "This suggests the improvements were not drastic, as a significant portion of predictions have similar error levels.\n",
        "* **Narrower Residual Spread for \"After\" (Blue)**:\n",
        "The blue distribution (After) appears slightly more concentrated around 0 compared to the red distribution (Before). This indicates an improvement in accuracy, with fewer extreme residuals.\n",
        "* **Taller Blue Bars Around 0:** The higher density of the blue residuals near 0 shows the improved model made more accurate predictions for a larger portion of the dataset.\n",
        "* **Red Dominates in the Tails:** The red (Before) distribution has longer tails, suggesting that the baseline model had more large residuals (outliers or larger errors). The blue distribution tails are shorter, meaning the improved model handles extreme cases slightly better."
      ],
      "metadata": {
        "id": "sIBD2cERAo_G"
      }
    },
    {
      "cell_type": "markdown",
      "source": [
        "Prediction Distribution Comparison:"
      ],
      "metadata": {
        "id": "DzjlXrh4GGhz"
      }
    },
    {
      "cell_type": "code",
      "source": [
        "# Plot the distribution of predicted values\n",
        "plt.figure(figsize=(10, 6))\n",
        "\n",
        "# Before model predictions\n",
        "plt.hist(basic_y_pred, bins=50, alpha=0.5, label='Before', color='red', edgecolor='black', density=True)\n",
        "\n",
        "# After model predictions\n",
        "plt.hist(y_pred_clipped, bins=50, alpha=0.5, label='After', color='blue', edgecolor='black', density=True)\n",
        "\n",
        "# Labels and title\n",
        "plt.xlabel('Predicted Values')\n",
        "plt.ylabel('Density')\n",
        "plt.title('Distribution of Predicted Values: Before vs. After')\n",
        "plt.legend()\n",
        "plt.grid(axis='y')\n",
        "plt.show()\n"
      ],
      "metadata": {
        "colab": {
          "base_uri": "https://localhost:8080/",
          "height": 564
        },
        "id": "0RWw49ExGNfv",
        "outputId": "a21db9a2-390a-44d3-8f66-0361c2754cb5"
      },
      "execution_count": null,
      "outputs": [
        {
          "output_type": "display_data",
          "data": {
            "text/plain": [
              "<Figure size 1000x600 with 1 Axes>"
            ],
            "image/png": "[encoded data removed]"
          },
          "metadata": {}
        }
      ]
    },
    {
      "cell_type": "markdown",
      "source": [
        "This plot compares the distribution of predicted values for the \"Before\" (red) and \"After\" (blue) models:\n",
        "* X-axis: Predicted values from the models.\n",
        "* Y-axis: Density (relative frequency of predictions).\n",
        "* Red (Before): Predictions from the baseline model.\n",
        "* Blue (After): Predictions from the improved model.\n",
        "* Taller bars indicate that the model predicts those values more frequently.\n",
        "\n",
        "We can see from the plot the following improvements in the model:\n",
        "* **Improved Stability in the \"After\" Model (Blue):**\n",
        "The After model shows a tall spike at 0, which indicates that it predicts zero rainfall for a significant portion of the data.\n",
        "This suggests that the model has become more stable and less prone to extreme overestimations compared to the \"Before\" model (red), which had a wider spread of predictions. This happened because in the improved model we clipped the negative rainfall values.\n",
        "* **Controlled Predictions in the \"After\" Model:**\n",
        "The Before model has a broader and more varied range of predictions, potentially capturing noise or making more errors.\n",
        "The \"After\" model, on the other hand, focuses its predictions within a narrower range, reflecting better control over extreme values.\n",
        "* **Overlap in Key Ranges (1 to 6):**\n",
        "The blue (After) and red (Before) distributions overlap in the range of 1 to 6, showing that the improvements primarily target the handling of outliers and predictions near zero, while maintaining similar performance in the moderate ranges.\n",
        "* **Reduced Outliers:**\n",
        "Predictions from the \"Before\" model extend beyond 6 or even into negative values, suggesting it struggled with outliers.\n",
        "The \"After\" model has fewer extreme predictions, which likely contributes to improved metrics like MSE and RMSE."
      ],
      "metadata": {
        "id": "DeipUXnfHy6n"
      }
    },
    {
      "cell_type": "markdown",
      "source": [
        "##**Biases**"
      ],
      "metadata": {
        "id": "dbT7Dqs_Jywd"
      }
    },
    {
      "cell_type": "markdown",
      "source": [
        "* **cloud cover**: The permutation importance above showed that  the highest importance (0.322 0.322) is cloud cover which means cloud cover is a strong driver of the model's predictions. This suggests a natural trend: higher cloud cover is likely correlated with increased rainfall. The model heavily relies on this feature, which could create a bias.\n",
        "* **max_temp**: The correlation matix above found that there is a strong correlation between max_temp and min_temp (over 0.85) and therefore dropped max_temp from the features to avoid multicollinearity. The model uses 'min_temp °c' (0.05 0.051) as a predictor after dropping 'max_temp °c' due to high correlation. This shows that the model identifies temperature as a contributing factor to rainfall, but redundancy between temperature features was avoided to reduce multicollinearity.\n",
        "* **location:** There is no strong evidence of bias toward geographic features, as their importance is minimal."
      ],
      "metadata": {
        "id": "IixEYlylJ3OE"
      }
    },
    {
      "cell_type": "markdown",
      "source": [
        "##**Data Insights:**"
      ],
      "metadata": {
        "id": "MLC_4OAJLk5a"
      }
    },
    {
      "cell_type": "markdown",
      "source": [
        "We found some things surprising in our model:\n",
        "* **Humidity Has Low Importance:** 'humidity %' has very low importance (0.017, 0.017), which is surprising because humidity typically correlates strongly with rainfall. However, this might suggest that the model captures similar information through more dominant features like cloud cover.\n",
        "* **Geographic Features Have Minimal Influence:** Despite including location-based features, their low importance suggests the model does not significantly rely on geography. We thought because England is big it will have some areas that are ranier then others.\n",
        "* **Low Importance of Temperature:** While 'min_temp °c' has some importance (0.051, 0.051), it’s much lower than we expected, because temperature is typically a significant predictor of rainfall (e.g., warm air can hold more moisture, leading to precipitation).\n",
        "* **Model didnt drastically improve:** Despite improvements, we expected the changes in the improved model to result in more significant shifts."
      ],
      "metadata": {
        "id": "9ZKac0qbL2DM"
      }
    },
    {
      "cell_type": "markdown",
      "source": [
        "##**User Friendly Explantion:**"
      ],
      "metadata": {
        "id": "wTb9hb7-NhKu"
      }
    },
    {
      "cell_type": "markdown",
      "source": [
        "1. **Cloud Cover Dominates Predictions**\n",
        "\n",
        "  One of the clearest patterns in the model is its reliance on cloud cover. It is the most influential feature by far, making up over 32% of the model's decisions. This makes sense—cloud cover is a direct indicator of potential rainfall. However, the model’s strong dependence on this feature suggests it might overlook other important factors.\n",
        "\n",
        "2. **Temperature and Humidity Are Underutilized**\n",
        "You’d expect features like temperature and humidity to play a bigger role in predicting rainfall, as they are key drivers in weather systems. Surprisingly:\n",
        "\n",
        "  * Temperature (min temp: 5%) has a much lower importance compared to cloud cover.\n",
        "  * Humidity barely influences predictions, contributing just 1.7%.\n",
        "\n",
        "  This suggests that while the model captures some relationships between these features and rainfall, there’s room to better integrate them for more robust predictions.\n",
        "\n",
        "3. **Seasonal Patterns Drive Predictions**\n",
        "The model picks up strong seasonal trends. For example:\n",
        "\n",
        "  * Months like February and March significantly influence predictions (18% and 12%, respectively).\n",
        "  * This reflects the dataset’s seasonal bias, where rainfall patterns align with specific months. While useful, this reliance could limit the model’s performance outside typical seasonal cycles.\n",
        "4. **Geographic Features Play a Small Role**\n",
        "  \n",
        "  Interestingly, location-based features, like Merehead or Newcastle, have very low importance (less than 1%). This suggests the model does not rely heavily on geography to make its predictions. While this might simplify the model, it could also mean the geographic variability in rainfall is underrepresented in the data."
      ],
      "metadata": {
        "id": "fDexUX6RNlp9"
      }
    },
    {
      "cell_type": "markdown",
      "source": [
        "##**Proposed Applications for the Dataset and Findings**"
      ],
      "metadata": {
        "id": "v9_QgYprORy0"
      }
    },
    {
      "cell_type": "markdown",
      "source": [
        "Given the dataset's focus on rainfall patterns in England, the findings can be applied to various real-world scenarios where accurate rainfall predictions and seasonal trends play a significant role. Here are some potential applications we thought of:\n",
        "* **Enhancing Agricultural Planning:** Farmers and agricultural stakeholders can use these insights to plan crop planting, irrigation schedules, and harvest timings based on expected rainfall.\n",
        "* **Flood Risk Assessment:** Local councils and emergency management agencies can use the model to predict periods of high rainfall and prepare for potential flooding.\n",
        "* **Infrastructure Planning:** Municipal planners can use the data to design and maintain drainage systems, reservoirs, and water supply networks to handle expected rainfall patterns.\n",
        "* Tourism and Outdoor Event Planning:** Seasonal trends in rainfall can help event organizers plan outdoor festivals, sports events, or tourist activities to avoid disruptions caused by adverse weather.\n",
        "* **Renewable Energy Optimization:** Solar and wind energy companies can use rainfall predictions to adjust energy output expectations and grid contributions.\n",
        "* **Insurance and Financial Services:** Insurance companies can develop dynamic pricing models for weather-related policies, such as crop insurance or flood protection, based on rainfall predictions."
      ],
      "metadata": {
        "id": "1t7fDus_OWFX"
      }
    }
  ]
}